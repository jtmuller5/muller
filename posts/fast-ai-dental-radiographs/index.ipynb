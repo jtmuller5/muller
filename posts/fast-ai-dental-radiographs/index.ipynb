{
 "cells": [
  {
   "cell_type": "markdown",
   "metadata": {},
   "source": [
    "---\n",
    "title: \"Fast AI Dental Radiographs\"\n",
    "description: \"Exploring dental radiographs with Fast AI.\"\n",
    "author: \"Joe Muller\"\n",
    "date: \"7/5/2024\"\n",
    "date-modified: \"7/5/2024\"\n",
    "image: \"image.jpg\"\n",
    "categories: [fastai, deep-learning]\n",
    "freeze: false\n",
    "draft: false\n",
    "---"
   ]
  },
  {
   "cell_type": "markdown",
   "metadata": {},
   "source": [
    "I am working through the Practical Deep Learning For Coders course from Fast AI and decided to work on my own project for practice. The code below was shared in the [Fast AI Dental Radiographs](https://www.kaggle.com/code/joemuller/fast-ai-dental-radiographs/notebook) notebook on Kaggle. In short, this notebook trains a model to identify cavities, fillings, impacted teeth, and implants in dental radiographs.\n",
    "\n",
    "# Version 1 - 73.4% Accuracy\n",
    "\n",
    "Version 1 of the model used a convolutional neural network and had an accuracy of 73.4%."
   ]
  },
  {
   "cell_type": "code",
   "execution_count": null,
   "metadata": {},
   "outputs": [],
   "source": [
    "import pandas as pd\n",
    "import os\n",
    "\n",
    "# List out all CSV input files\n",
    "input_dir = '/kaggle/input/'\n",
    "\n",
    "# Initialize lists to store CSV and Excel files\n",
    "csv_files = []\n",
    "excel_files = []\n",
    "\n",
    "# Walk through the input directory and find files\n",
    "for dirname, _, filenames in os.walk(input_dir):\n",
    "    for filename in filenames:\n",
    "        if filename.endswith('.csv'):\n",
    "            csv_files.append(os.path.join(dirname, filename))\n",
    "        elif filename.endswith('.xlsx') or filename.endswith('.xls'):\n",
    "            excel_files.append(os.path.join(dirname, filename))\n",
    "\n",
    "# Print the list of CSV and Excel files\n",
    "print(\"CSV files found:\")\n",
    "for file in csv_files:\n",
    "    print(file)\n",
    "\n",
    "print(\"\\nExcel files found:\")\n",
    "for file in excel_files:\n",
    "    print(file)\n",
    "\n",
    "#for dirname, _, filenames in os.walk(input_dir):\n",
    "#    for filename in filenames:\n",
    "#        print(os.path.join(dirname, filename))"
   ]
  },
  {
   "cell_type": "code",
   "execution_count": null,
   "metadata": {},
   "outputs": [],
   "source": [
    "file_path = '/kaggle/input/dental-radiography/train/_annotations.csv'\n",
    "df = pd.read_csv(file_path)\n",
    "\n",
    "df.head()"
   ]
  },
  {
   "cell_type": "code",
   "execution_count": null,
   "metadata": {},
   "outputs": [],
   "source": [
    "unique_classes = df['class'].unique()\n",
    "print(\"Unique categories in 'class' column:\")\n",
    "print(unique_classes)"
   ]
  },
  {
   "cell_type": "code",
   "execution_count": null,
   "metadata": {},
   "outputs": [],
   "source": [
    "!pip install fastai"
   ]
  },
  {
   "cell_type": "code",
   "execution_count": null,
   "metadata": {},
   "outputs": [],
   "source": [
    "from fastai.vision.all import *\n",
    "\n",
    "# Filter for implants and fillings\n",
    "df_filtered = df[df['class'].isin(['Implant', 'Fillings', 'Impacted Tooth', 'Cavity'])]\n",
    "\n",
    "# Define a function to get image path\n",
    "def get_image_path(row):\n",
    "    return f\"/kaggle/input/dental-radiography/train/{row['filename']}\"\n",
    "\n",
    "# Define a function to get labels\n",
    "def get_labels(row):\n",
    "    return row['class']\n",
    "\n",
    "# Create a DataBlock\n",
    "dblock = DataBlock(\n",
    "    blocks=(ImageBlock, CategoryBlock),\n",
    "    get_x=get_image_path,\n",
    "    get_y=get_labels,\n",
    "    splitter=RandomSplitter(valid_pct=0.2, seed=42),\n",
    "    item_tfms=Resize(256)\n",
    ")\n",
    "\n",
    "# Create DataLoaders\n",
    "dls = dblock.dataloaders(df_filtered)\n",
    "dls.show_batch(max_n=6, figsize=(8, 8))\n",
    "\n",
    "# Train the model\n",
    "learn = cnn_learner(dls, resnet34, metrics=accuracy)\n",
    "learn.fine_tune(4)\n",
    "\n",
    "# Evaluate the model\n",
    "learn.show_results()"
   ]
  },
  {
   "cell_type": "code",
   "execution_count": null,
   "metadata": {},
   "outputs": [],
   "source": [
    "learn.export('dental_radiography_model.pkl')"
   ]
  },
  {
   "cell_type": "markdown",
   "metadata": {},
   "source": [
    "# Attempts at Improvement\n",
    "\n",
    "With the help of GPT-4o, I made a few attempts at improving the model's performance.\n",
    "\n",
    "## 1. Changed the model (ex. resnet18, resnet34, resnet50)\n",
    "\n",
    "The Vision learner supports multiple pretrained models found [here](https://docs.fast.ai/vision.models.xresnet.html).\n",
    "\n",
    "> `cnn_learner` is a deprecated name for the Fast AI [Vision learner](https://docs.fast.ai/vision.learner.html) so I updated to that in the following experiments.\n",
    "> \n",
    "## 2. [Unfreezed](https://docs.fast.ai/learner.html#learner.unfreeze) the model\n",
    "\n",
    "## 3. Used [learning rate schedulers](https://d2l.ai/chapter_optimization/lr-scheduler.html)\n",
    "Instead of updating the algorithm used to train the model, we can update the rate at which the weight vectors of the model are update. I don't understand how this works."
   ]
  },
  {
   "cell_type": "markdown",
   "metadata": {},
   "source": [
    "# Deploying the Model\n",
    "\n",
    "Any model can be made publicly available by following these steps:\n",
    "1. Create a Hugging Face Space\n",
    "2. Setup Gradio\n",
    "3. \n",
    "\n",
    "Once deployed to Hugging Face spaces, an API will be generated. You can use this to generate a prediction using the model."
   ]
  }
 ],
 "metadata": {
  "kernelspec": {
   "display_name": "Python 3",
   "language": "python",
   "name": "python3"
  },
  "language_info": {
   "codemirror_mode": {
    "name": "ipython",
    "version": 3
   },
   "file_extension": ".py",
   "mimetype": "text/x-python",
   "name": "python",
   "nbconvert_exporter": "python",
   "pygments_lexer": "ipython3",
   "version": "3.12.3"
  }
 },
 "nbformat": 4,
 "nbformat_minor": 2
}
